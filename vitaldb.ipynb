{
  "nbformat": 4,
  "nbformat_minor": 0,
  "metadata": {
    "colab": {
      "name": "vitaldb.ipynb",
      "provenance": [],
      "authorship_tag": "ABX9TyNe0xHYSGHapWkbV0GDKVaN",
      "include_colab_link": true
    },
    "kernelspec": {
      "name": "python3",
      "display_name": "Python 3"
    }
  },
  "cells": [
    {
      "cell_type": "markdown",
      "metadata": {
        "id": "view-in-github",
        "colab_type": "text"
      },
      "source": [
        "<a href=\"https://colab.research.google.com/github/vitaldb/pyvital/blob/master/vitaldb.ipynb\" target=\"_parent\"><img src=\"https://colab.research.google.com/assets/colab-badge.svg\" alt=\"Open In Colab\"/></a>"
      ]
    },
    {
      "cell_type": "markdown",
      "metadata": {
        "id": "Yy0WHpW3X9oX",
        "colab_type": "text"
      },
      "source": [
        "# VitalDB 데이터 셋 이용"
      ]
    },
    {
      "cell_type": "code",
      "metadata": {
        "id": "rj6zxZtnX805",
        "colab_type": "code",
        "colab": {
          "base_uri": "https://localhost:8080/",
          "height": 269
        },
        "outputId": "e341ce26-ad0b-4bcc-d963-c9871ff03ea0"
      },
      "source": [
        "import pandas as pd\n",
        "import numpy as np\n",
        "df_cases = pd.read_csv(\"https://api.vitaldb.net/cases\")\n",
        "print(df_cases)"
      ],
      "execution_count": 7,
      "outputs": [
        {
          "output_type": "stream",
          "text": [
            "      caseid  casestart  caseend  ...  intraop_phe  intraop_epi  intraop_ca\n",
            "0          1          0    11520  ...            0            0           0\n",
            "1          2          0    15720  ...            0            0           0\n",
            "2          3          0     4440  ...            0            0           0\n",
            "3          4          0    21000  ...            0            0           0\n",
            "4          5          0    21540  ...          900            0        2100\n",
            "...      ...        ...      ...  ...          ...          ...         ...\n",
            "6383    6384          0    15240  ...            0            0           0\n",
            "6384    6385          0    20640  ...           30            0         300\n",
            "6385    6386          0    19440  ...            0            0           0\n",
            "6386    6387          0    12000  ...            0            0           0\n",
            "6387    6388          0    10260  ...            0            0           0\n",
            "\n",
            "[6388 rows x 80 columns]\n"
          ],
          "name": "stdout"
        }
      ]
    }
  ]
}